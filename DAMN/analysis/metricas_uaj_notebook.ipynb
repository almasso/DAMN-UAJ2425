{
  "cells": [
    {
      "cell_type": "markdown",
      "metadata": {},
      "source": [
        "# Análisis de Telemetría de Sesiones\n",
        "**Autor:** Grupo 05  \n",
        "**Fecha:** 2025-03-27  \n",
        "\n",
        "**Objetivo:**  \n",
        "Comprobar que el uso de las armas se adecúa al objetivo para el que fueron diseñadas.\n",
        "\n",
        "**Preguntas de investigación:**  \n",
        "1. ¿Se usan las armas a las distancias para las que fueron diseñadas?  \n",
        "2. ¿Se adecúa el uso al diseño de los niveles 2 y 3?  \n",
        "3. ¿La dispersión de la escopeta es intuitiva y adecuada?"
      ]
    },
    {
      "cell_type": "markdown",
      "id": "41febb54",
      "metadata": {},
      "source": [
        "## 1. Introducción\n",
        "\n",
        "**Objetivo:**  \n",
        "Comprobar que el uso de las armas se adecúa al objetivo para el que fueron diseñadas.\n",
        "\n",
        "**Preguntas de investigación:**  \n",
        "1. ¿Se usan las armas a las distancias para las que fueron diseñadas?  \n",
        "2. ¿Se adecúa el uso al diseño de los niveles 2 y 3?  \n",
        "3. ¿La dispersión de la escopeta es intuitiva y adecuada?"
      ]
    },
    {
      "cell_type": "markdown",
      "id": "3701e402",
      "metadata": {},
      "source": [
        "## 2. Imports y configuración inicial"
      ]
    },
    {
      "cell_type": "code",
      "execution_count": 517,
      "metadata": {},
      "outputs": [],
      "source": [
        "import os\n",
        "import glob\n",
        "import json\n",
        "import pandas as pd\n",
        "import numpy as np\n",
        "import matplotlib.pyplot as plt\n",
        "\n",
        "%matplotlib inline\n",
        "plt.style.use('default')\n",
        "DATA_DIR = 'data'\n"
      ]
    },
    {
      "cell_type": "markdown",
      "id": "ddf81205",
      "metadata": {},
      "source": [
        "## 3. Carga y vista previa de los JSON"
      ]
    },
    {
      "cell_type": "code",
      "execution_count": 518,
      "metadata": {},
      "outputs": [
        {
          "name": "stdout",
          "output_type": "stream",
          "text": [
            "10 archivos JSON encontrados.\n",
            "sessionID            object\n",
            "timestamp    datetime64[ns]\n",
            "dtype: object\n"
          ]
        }
      ],
      "source": [
        "# Carga y vista previa de los JSON\n",
        "import pandas as pd\n",
        "\n",
        "# Listar archivos\n",
        "paths = glob.glob(os.path.join(DATA_DIR, 'telemetry_*.json'))\n",
        "print(f\"{len(paths)} archivos JSON encontrados.\")\n",
        "\n",
        "\n",
        "# Cargar en DataFrame\n",
        "df = pd.concat([pd.read_json(p) for p in paths], ignore_index=True)\n",
        "\n",
        "# 6) Vistazo final\n",
        "print(df.dtypes[['sessionID','timestamp']])\n",
        "#df[['sessionID','timestamp']].head(5)\n",
        "\n"
      ]
    },
    {
      "cell_type": "markdown",
      "metadata": {},
      "source": [
        "## 4. Preprocesado de eventos\n",
        "- Separar eventos de `Shot` y `ShotCollision`.\n",
        "- Parsear la columna `otherWeaponsInfo` a diccionario.\n",
        "- Unir cada disparo con su colisión mediante `sessionID + bulletID`."
      ]
    },
    {
      "cell_type": "code",
      "execution_count": 519,
      "metadata": {},
      "outputs": [
        {
          "name": "stdout",
          "output_type": "stream",
          "text": [
            "Disparos (Shot): 1098 filas\n",
            "Colisiones (ShotCollision): 1331 filas\n",
            "\n",
            "Columnas tras merge: ['eventType', 'gameID', 'playerID', 'sessionID', 'timestamp', 'levelStarted', 'bulletID', 'otherWeaponsInfo', 'posX', 'posY', 'posZ', 'weaponUsed', 'hasHitEnemy', 'hasKillEnemy', 'eventType_coll', 'gameID_coll', 'playerID_coll', 'timestamp_coll', 'levelStarted_coll', 'otherWeaponsInfo_coll', 'posX_coll', 'posY_coll', 'posZ_coll', 'weaponUsed_coll', 'hasHitEnemy_coll', 'hasKillEnemy_coll'] \n",
            "\n"
          ]
        }
      ],
      "source": [
        "# Preprocesado de eventos\n",
        "\n",
        "import json, ast\n",
        "\n",
        "# Extraer Shot y ShotCollision\n",
        "shots = df[df.eventType == 'Shot'].copy()\n",
        "colls = df[df.eventType == 'ShotCollision'].copy()\n",
        "\n",
        "print(f\"Disparos (Shot): {len(shots)} filas\")\n",
        "print(f\"Colisiones (ShotCollision): {len(colls)} filas\\n\")\n",
        "\n",
        "# Parsear otherWeaponsInfo a dict (JSON o literal de Python)\n",
        "def _parse_other(info):\n",
        "    if isinstance(info, dict):\n",
        "        return info\n",
        "    if pd.isna(info) or info == '':\n",
        "        return {}\n",
        "    if isinstance(info, str):\n",
        "        try:\n",
        "            return json.loads(info)\n",
        "        except:\n",
        "            try:\n",
        "                return ast.literal_eval(info)\n",
        "            except:\n",
        "                return {}\n",
        "    return {}\n",
        "\n",
        "shots['otherWeaponsInfo'] = shots['otherWeaponsInfo'].apply(_parse_other)\n",
        "\n",
        "# Unir disparos con colisiones (sessionID + bulletID) usando suffixes\n",
        "merged = pd.merge(\n",
        "    shots,\n",
        "    colls,\n",
        "    on=['sessionID','bulletID'],\n",
        "    how='left',\n",
        "    suffixes=('','_coll')\n",
        ")\n",
        "\n",
        "# Vista previa\n",
        "print(\"Columnas tras merge:\", merged.columns.tolist(), \"\\n\")\n",
        "#merged.head()\n",
        "\n"
      ]
    },
    {
      "cell_type": "markdown",
      "metadata": {},
      "source": [
        "## 5. Métricas de uso óptimo por distancia\n",
        "- Calcular distancia entre `posX,posY,posZ` de disparo y colisión.\n",
        "- Categorizar en “corta” (0–12 m), “media” (12–25 m) y “larga” (25–60 m).\n",
        "- Filtrar solo disparos con munición en otras armas.\n",
        "- Para pistola, escopeta y rifle, calcular % de impactos en cada rango."
      ]
    },
    {
      "cell_type": "code",
      "execution_count": 534,
      "metadata": {},
      "outputs": [
        {
          "name": "stdout",
          "output_type": "stream",
          "text": [
            "Impactos brutos por arma y franja:\n"
          ]
        },
        {
          "name": "stderr",
          "output_type": "stream",
          "text": [
            "C:\\Users\\javim\\AppData\\Local\\Temp\\ipykernel_16920\\3467124876.py:28: FutureWarning: The default of observed=False is deprecated and will be changed to True in a future version of pandas. Pass observed=False to retain current behavior or observed=True to adopt the future default and silence this warning.\n",
            "  .groupby(['weaponUsed','range_cat'])\n"
          ]
        },
        {
          "data": {
            "text/html": [
              "<div>\n",
              "<style scoped>\n",
              "    .dataframe tbody tr th:only-of-type {\n",
              "        vertical-align: middle;\n",
              "    }\n",
              "\n",
              "    .dataframe tbody tr th {\n",
              "        vertical-align: top;\n",
              "    }\n",
              "\n",
              "    .dataframe thead th {\n",
              "        text-align: right;\n",
              "    }\n",
              "</style>\n",
              "<table border=\"1\" class=\"dataframe\">\n",
              "  <thead>\n",
              "    <tr style=\"text-align: right;\">\n",
              "      <th>range_cat</th>\n",
              "      <th>corta</th>\n",
              "      <th>media</th>\n",
              "      <th>larga</th>\n",
              "    </tr>\n",
              "    <tr>\n",
              "      <th>weaponUsed</th>\n",
              "      <th></th>\n",
              "      <th></th>\n",
              "      <th></th>\n",
              "    </tr>\n",
              "  </thead>\n",
              "  <tbody>\n",
              "    <tr>\n",
              "      <th>Pistola</th>\n",
              "      <td>144</td>\n",
              "      <td>260</td>\n",
              "      <td>307</td>\n",
              "    </tr>\n",
              "    <tr>\n",
              "      <th>Escopeta</th>\n",
              "      <td>7</td>\n",
              "      <td>41</td>\n",
              "      <td>44</td>\n",
              "    </tr>\n",
              "    <tr>\n",
              "      <th>Rifle</th>\n",
              "      <td>6</td>\n",
              "      <td>29</td>\n",
              "      <td>33</td>\n",
              "    </tr>\n",
              "  </tbody>\n",
              "</table>\n",
              "</div>"
            ],
            "text/plain": [
              "range_cat   corta  media  larga\n",
              "weaponUsed                     \n",
              "Pistola       144    260    307\n",
              "Escopeta        7     41     44\n",
              "Rifle           6     29     33"
            ]
          },
          "metadata": {},
          "output_type": "display_data"
        },
        {
          "name": "stdout",
          "output_type": "stream",
          "text": [
            "% de impactos por franja (normalizado por arma):\n"
          ]
        },
        {
          "data": {
            "text/html": [
              "<div>\n",
              "<style scoped>\n",
              "    .dataframe tbody tr th:only-of-type {\n",
              "        vertical-align: middle;\n",
              "    }\n",
              "\n",
              "    .dataframe tbody tr th {\n",
              "        vertical-align: top;\n",
              "    }\n",
              "\n",
              "    .dataframe thead th {\n",
              "        text-align: right;\n",
              "    }\n",
              "</style>\n",
              "<table border=\"1\" class=\"dataframe\">\n",
              "  <thead>\n",
              "    <tr style=\"text-align: right;\">\n",
              "      <th>range_cat</th>\n",
              "      <th>corta</th>\n",
              "      <th>media</th>\n",
              "      <th>larga</th>\n",
              "    </tr>\n",
              "    <tr>\n",
              "      <th>weaponUsed</th>\n",
              "      <th></th>\n",
              "      <th></th>\n",
              "      <th></th>\n",
              "    </tr>\n",
              "  </thead>\n",
              "  <tbody>\n",
              "    <tr>\n",
              "      <th>Pistola</th>\n",
              "      <td>20</td>\n",
              "      <td>37</td>\n",
              "      <td>43</td>\n",
              "    </tr>\n",
              "    <tr>\n",
              "      <th>Escopeta</th>\n",
              "      <td>8</td>\n",
              "      <td>45</td>\n",
              "      <td>48</td>\n",
              "    </tr>\n",
              "    <tr>\n",
              "      <th>Rifle</th>\n",
              "      <td>9</td>\n",
              "      <td>43</td>\n",
              "      <td>48</td>\n",
              "    </tr>\n",
              "  </tbody>\n",
              "</table>\n",
              "</div>"
            ],
            "text/plain": [
              "range_cat   corta  media  larga\n",
              "weaponUsed                     \n",
              "Pistola        20     37     43\n",
              "Escopeta        8     45     48\n",
              "Rifle           9     43     48"
            ]
          },
          "metadata": {},
          "output_type": "display_data"
        },
        {
          "data": {
            "image/png": "[encoded data removed]",
            "text/plain": [
              "<Figure size 700x500 with 1 Axes>"
            ]
          },
          "metadata": {},
          "output_type": "display_data"
        }
      ],
      "source": [
        "# 5. Métricas de uso óptimo por distancia (hits por franja / hits totales por arma)\n",
        "\n",
        "import numpy as np\n",
        "import pandas as pd\n",
        "import matplotlib.pyplot as plt\n",
        "\n",
        "# Partimos de merged_shot (debe traer posX, posY, posZ, posX_coll, posY_coll, posZ_coll, weaponUsed, hasHitEnemy)\n",
        "df5 = merged_shot.copy()\n",
        "\n",
        "# 1) Filtrar solo los impactos reales\n",
        "hits = df5[df5['hasHitEnemy'] == 1].copy()\n",
        "\n",
        "# 2) Calcular distancia 3D\n",
        "hits['distance'] = np.sqrt(\n",
        "    (hits['posX']     - hits['posX_coll'])**2 +\n",
        "    (hits['posY']     - hits['posY_coll'])**2 +\n",
        "    (hits['posZ']     - hits['posZ_coll'])**2\n",
        ")\n",
        "\n",
        "# 3) Categorizar en franjas\n",
        "bins   = [0, 12, 25, 60]\n",
        "labels = ['corta','media','larga']\n",
        "hits['range_cat'] = pd.cut(hits['distance'], bins=bins, labels=labels, right=False)\n",
        "\n",
        "# 4) Contar impactos por arma y franja (raw hits)\n",
        "raw_hits = (\n",
        "    hits\n",
        "    .groupby(['weaponUsed','range_cat'])\n",
        "    .size()\n",
        "    .unstack(fill_value=0)\n",
        "    .rename(index={0:'Pistola',1:'Escopeta',2:'Rifle'})\n",
        ")\n",
        "print(\"Impactos brutos por arma y franja:\")\n",
        "display(raw_hits)\n",
        "\n",
        "# 5) Calcular %: cada franja ÷ total impactos de esa arma\n",
        "pct_hits = raw_hits.div(raw_hits.sum(axis=1), axis=0) * 100\n",
        "pct_hits = pct_hits.round(1)\n",
        "print(\"% de impactos por franja (normalizado por arma):\")\n",
        "display(pct_hits)\n",
        "\n",
        "# 6) Gráfico para visualizar la distribución\n",
        "ax = pct_hits.plot.bar(\n",
        "    figsize=(7,5),\n",
        "    title='% de impactos a enemigos por franja de distancia y arma',\n",
        "    ylabel='% de impactos'\n",
        ")\n",
        "ax.set_xlabel('')\n",
        "plt.xticks(rotation=0)\n",
        "plt.legend(title='Franja')\n",
        "plt.tight_layout()\n",
        "plt.show()\n",
        "\n"
      ]
    },
    {
      "cell_type": "markdown",
      "metadata": {},
      "source": [
        "## 6. Uso de escopeta y rifle por nivel (2 y 3)\n",
        "- Asignar a cada disparo el nivel usando orden de eventos y `ffill`.\n",
        "- Filtrar nivel 2 y nivel 3.\n",
        "- Comparar % de pistola vs escopeta en nivel 2.\n",
        "- Comparar % de pistola, escopeta y rifle en nivel 3."
      ]
    },
    {
      "cell_type": "code",
      "execution_count": 521,
      "metadata": {},
      "outputs": [
        {
          "name": "stdout",
          "output_type": "stream",
          "text": [
            "Disparos por nivel:\n",
            " level\n",
            "1    274\n",
            "2    352\n",
            "3    472\n",
            "Name: count, dtype: int64 \n",
            "\n"
          ]
        },
        {
          "data": {
            "text/html": [
              "<div>\n",
              "<style scoped>\n",
              "    .dataframe tbody tr th:only-of-type {\n",
              "        vertical-align: middle;\n",
              "    }\n",
              "\n",
              "    .dataframe tbody tr th {\n",
              "        vertical-align: top;\n",
              "    }\n",
              "\n",
              "    .dataframe thead th {\n",
              "        text-align: right;\n",
              "    }\n",
              "</style>\n",
              "<table border=\"1\" class=\"dataframe\">\n",
              "  <thead>\n",
              "    <tr style=\"text-align: right;\">\n",
              "      <th></th>\n",
              "      <th>Disparos</th>\n",
              "      <th>% Disparos</th>\n",
              "    </tr>\n",
              "    <tr>\n",
              "      <th>weaponUsed</th>\n",
              "      <th></th>\n",
              "      <th></th>\n",
              "    </tr>\n",
              "  </thead>\n",
              "  <tbody>\n",
              "    <tr>\n",
              "      <th>Pistola</th>\n",
              "      <td>282</td>\n",
              "      <td>80</td>\n",
              "    </tr>\n",
              "    <tr>\n",
              "      <th>Escopeta</th>\n",
              "      <td>70</td>\n",
              "      <td>20</td>\n",
              "    </tr>\n",
              "  </tbody>\n",
              "</table>\n",
              "</div>"
            ],
            "text/plain": [
              "            Disparos  % Disparos\n",
              "weaponUsed                      \n",
              "Pistola          282          80\n",
              "Escopeta          70          20"
            ]
          },
          "metadata": {},
          "output_type": "display_data"
        },
        {
          "data": {
            "image/png": "[encoded data removed]",
            "text/plain": [
              "<Figure size 500x400 with 1 Axes>"
            ]
          },
          "metadata": {},
          "output_type": "display_data"
        },
        {
          "data": {
            "text/html": [
              "<div>\n",
              "<style scoped>\n",
              "    .dataframe tbody tr th:only-of-type {\n",
              "        vertical-align: middle;\n",
              "    }\n",
              "\n",
              "    .dataframe tbody tr th {\n",
              "        vertical-align: top;\n",
              "    }\n",
              "\n",
              "    .dataframe thead th {\n",
              "        text-align: right;\n",
              "    }\n",
              "</style>\n",
              "<table border=\"1\" class=\"dataframe\">\n",
              "  <thead>\n",
              "    <tr style=\"text-align: right;\">\n",
              "      <th></th>\n",
              "      <th>Disparos</th>\n",
              "      <th>% Disparos</th>\n",
              "    </tr>\n",
              "    <tr>\n",
              "      <th>weaponUsed</th>\n",
              "      <th></th>\n",
              "      <th></th>\n",
              "    </tr>\n",
              "  </thead>\n",
              "  <tbody>\n",
              "    <tr>\n",
              "      <th>Pistola</th>\n",
              "      <td>353</td>\n",
              "      <td>75</td>\n",
              "    </tr>\n",
              "    <tr>\n",
              "      <th>Escopeta</th>\n",
              "      <td>45</td>\n",
              "      <td>10</td>\n",
              "    </tr>\n",
              "    <tr>\n",
              "      <th>Rifle</th>\n",
              "      <td>74</td>\n",
              "      <td>16</td>\n",
              "    </tr>\n",
              "  </tbody>\n",
              "</table>\n",
              "</div>"
            ],
            "text/plain": [
              "            Disparos  % Disparos\n",
              "weaponUsed                      \n",
              "Pistola          353          75\n",
              "Escopeta          45          10\n",
              "Rifle             74          16"
            ]
          },
          "metadata": {},
          "output_type": "display_data"
        },
        {
          "data": {
            "image/png": "[encoded data removed]",
            "text/plain": [
              "<Figure size 600x400 with 1 Axes>"
            ]
          },
          "metadata": {},
          "output_type": "display_data"
        }
      ],
      "source": [
        "import pandas as pd\n",
        "import numpy as np\n",
        "\n",
        "# Uso de escopeta y rifle por nivel (2 y 3) — colisiones deduplicadas\n",
        "\n",
        "# Preservamos el orden original\n",
        "df_ord = df.reset_index().rename(columns={'index':'orig_order'})\n",
        "\n",
        "# Preparamos shot_df con orig_order\n",
        "shot_df = df_ord[df_ord.eventType=='Shot'][[\n",
        "    'orig_order','sessionID','bulletID','weaponUsed',\n",
        "    'posX','posY','posZ','otherWeaponsInfo'\n",
        "]].copy()\n",
        "\n",
        "# Preparamos coll_df con timestamp y coordenadas, renombramos\n",
        "coll_df = df_ord[df_ord.eventType=='ShotCollision'][[\n",
        "    'sessionID','bulletID','timestamp','posX','posY','posZ','hasHitEnemy','hasKillEnemy'\n",
        "]].rename(columns={\n",
        "    'timestamp':'timestamp_coll',\n",
        "    'posX':'posX_coll','posY':'posY_coll','posZ':'posZ_coll'\n",
        "})\n",
        "\n",
        "# Deduplciamos por primera colisión de cada bala\n",
        "coll_df = (\n",
        "    coll_df\n",
        "    .sort_values(['sessionID','bulletID','timestamp_coll'])\n",
        "    .drop_duplicates(['sessionID','bulletID'], keep='first')\n",
        ")\n",
        "\n",
        "# Merge 1:1 shot ↔ primera colisión\n",
        "merged_shot = pd.merge(\n",
        "    shot_df,\n",
        "    coll_df,\n",
        "    on=['sessionID','bulletID'],\n",
        "    how='left'\n",
        ")\n",
        "\n",
        "# Asignar nivel usando ffill sobre orig_order\n",
        "df_ev = df_ord[df_ord.eventType.isin(['LevelStart','Shot'])].copy()\n",
        "df_ev['eventOrder'] = df_ev['eventType'].map({'LevelStart':0,'Shot':1})\n",
        "df_ev = df_ev.sort_values(['sessionID','orig_order','eventOrder'])\n",
        "df_ev['lvl_ff'] = df_ev['levelStarted'].where(df_ev.eventType=='LevelStart', pd.NA)\n",
        "df_ev['lvl_ff'] = df_ev.groupby('sessionID')['lvl_ff'].ffill()\n",
        "\n",
        "lvl_map = (\n",
        "    df_ev[df_ev.eventType=='Shot'][['orig_order','lvl_ff']]\n",
        "      .assign(level=lambda d: d['lvl_ff']+1)\n",
        ")\n",
        "\n",
        "# Unimos nivel a cada disparo 1:1\n",
        "shots_lvl = pd.merge(\n",
        "    merged_shot,\n",
        "    lvl_map[['orig_order','level']],\n",
        "    on='orig_order',\n",
        "    how='inner'\n",
        ")\n",
        "\n",
        "# Verificamos recuentos (deberían sumar 719)\n",
        "print(\"Disparos por nivel:\\n\", shots_lvl['level'].value_counts().sort_index(), \"\\n\")\n",
        "\n",
        "# Nivel 2: Pistola vs Escopeta\n",
        "lvl2 = shots_lvl[shots_lvl['level']==2]\n",
        "counts2 = lvl2['weaponUsed'].map({0:'Pistola',1:'Escopeta'})\\\n",
        "           .value_counts().reindex(['Pistola','Escopeta'],fill_value=0)\n",
        "pct2    = (counts2/counts2.sum()*100).round(1)\n",
        "tabla2  = pd.DataFrame({'Disparos':counts2,'% Disparos':pct2})\n",
        "display(tabla2)\n",
        "\n",
        "ax = tabla2['% Disparos'].plot.bar(\n",
        "    figsize=(5,4),\n",
        "    title='Nivel 2: % Pistola vs Escopeta'\n",
        ")\n",
        "ax.set_ylabel('% Disparos'); ax.set_xlabel('')\n",
        "plt.xticks(rotation=0); plt.tight_layout(); plt.show()\n",
        "\n",
        "# Nivel 3: Pistola, Escopeta y Rifle\n",
        "lvl3 = shots_lvl[shots_lvl['level']==3]\n",
        "counts3 = lvl3['weaponUsed'].map({0:'Pistola',1:'Escopeta',2:'Rifle'})\\\n",
        "           .value_counts().reindex(['Pistola','Escopeta','Rifle'],fill_value=0)\n",
        "pct3    = (counts3/counts3.sum()*100).round(1)\n",
        "tabla3  = pd.DataFrame({'Disparos':counts3,'% Disparos':pct3})\n",
        "display(tabla3)\n",
        "\n",
        "ax = tabla3['% Disparos'].plot.bar(\n",
        "    figsize=(6,4),\n",
        "    title='Nivel 3: % Pistola, Escopeta y Rifle'\n",
        ")\n",
        "ax.set_ylabel('% Disparos'); ax.set_xlabel('')\n",
        "plt.xticks(rotation=0); plt.tight_layout(); plt.show()\n"
      ]
    },
    {
      "cell_type": "markdown",
      "metadata": {},
      "source": [
        "## 7. Dispersión de la escopeta\n",
        "- De los disparos a escopeta, contar perdigones que colisionan vs fallidos (`hasHitEnemy=False`).\n",
        "- Calcular ratio “acertados/fallidos”."
      ]
    },
    {
      "cell_type": "code",
      "execution_count": 522,
      "metadata": {},
      "outputs": [
        {
          "name": "stdout",
          "output_type": "stream",
          "text": [
            "### Dispersión de la escopeta ###\n"
          ]
        },
        {
          "data": {
            "text/html": [
              "<div>\n",
              "<style scoped>\n",
              "    .dataframe tbody tr th:only-of-type {\n",
              "        vertical-align: middle;\n",
              "    }\n",
              "\n",
              "    .dataframe tbody tr th {\n",
              "        vertical-align: top;\n",
              "    }\n",
              "\n",
              "    .dataframe thead th {\n",
              "        text-align: right;\n",
              "    }\n",
              "</style>\n",
              "<table border=\"1\" class=\"dataframe\">\n",
              "  <thead>\n",
              "    <tr style=\"text-align: right;\">\n",
              "      <th></th>\n",
              "      <th>Perdigones totales</th>\n",
              "      <th>Acertados</th>\n",
              "      <th>Fallidos</th>\n",
              "      <th>Ratio A/F</th>\n",
              "    </tr>\n",
              "  </thead>\n",
              "  <tbody>\n",
              "    <tr>\n",
              "      <th>Escopeta</th>\n",
              "      <td>115</td>\n",
              "      <td>92</td>\n",
              "      <td>23</td>\n",
              "      <td>4</td>\n",
              "    </tr>\n",
              "  </tbody>\n",
              "</table>\n",
              "</div>"
            ],
            "text/plain": [
              "          Perdigones totales  Acertados  Fallidos  Ratio A/F\n",
              "Escopeta                 115         92        23          4"
            ]
          },
          "metadata": {},
          "output_type": "display_data"
        },
        {
          "data": {
            "image/png": "[encoded data removed]",
            "text/plain": [
              "<Figure size 500x400 with 1 Axes>"
            ]
          },
          "metadata": {},
          "output_type": "display_data"
        }
      ],
      "source": [
        "\n",
        "import pandas as pd\n",
        "import numpy as np\n",
        "import matplotlib.pyplot as plt\n",
        "\n",
        "#  Filtro merged_shot para quedarnos sólo con disparos de escopeta\n",
        "esc = merged_shot[merged_shot['weaponUsed'] == 1].copy()\n",
        "\n",
        "#  Conteos \n",
        "acertados = (esc['hasHitEnemy'] == 1).sum()   # True → 0\n",
        "fallidos  = (esc['hasHitEnemy'] == 0).sum()   # False → 1\n",
        "\n",
        "#  Total y ratio\n",
        "total = acertados + fallidos\n",
        "ratio = (acertados / fallidos).round(2) if fallidos > 0 else np.nan\n",
        "\n",
        "#  Tabla resumen\n",
        "tabla7 = pd.DataFrame({\n",
        "    'Perdigones totales': [total],\n",
        "    'Acertados':          [acertados],\n",
        "    'Fallidos':           [fallidos],\n",
        "    'Ratio A/F':          [ratio]\n",
        "}, index=['Escopeta'])\n",
        "\n",
        "print(\"### Dispersión de la escopeta ###\")\n",
        "display(tabla7)\n",
        "\n",
        "#  Gráfico de barras\n",
        "fig, ax = plt.subplots(figsize=(5,4))\n",
        "ax.bar(\n",
        "    ['Acertados','Fallidos'],\n",
        "    [acertados, fallidos],\n",
        "    color=['#55A868','#C44E52']  # verde para aciertos, rojo para fallos\n",
        ")\n",
        "ax.set_title('Dispersión escopeta: acertados vs fallidos')\n",
        "ax.set_ylabel('Número de perdigones')\n",
        "plt.tight_layout()\n",
        "plt.show()\n",
        "\n"
      ]
    },
    {
      "cell_type": "markdown",
      "metadata": {},
      "source": [
        "## 8. Resumen de resultados\n",
        "- Tablas resumen de las tres métricas con interpretaciones breves."
      ]
    },
    {
      "cell_type": "code",
      "execution_count": 523,
      "metadata": {},
      "outputs": [
        {
          "name": "stdout",
          "output_type": "stream",
          "text": [
            "### Uso óptimo por distancia (% impactos) ###\n"
          ]
        },
        {
          "data": {
            "text/html": [
              "<div>\n",
              "<style scoped>\n",
              "    .dataframe tbody tr th:only-of-type {\n",
              "        vertical-align: middle;\n",
              "    }\n",
              "\n",
              "    .dataframe tbody tr th {\n",
              "        vertical-align: top;\n",
              "    }\n",
              "\n",
              "    .dataframe thead th {\n",
              "        text-align: right;\n",
              "    }\n",
              "</style>\n",
              "<table border=\"1\" class=\"dataframe\">\n",
              "  <thead>\n",
              "    <tr style=\"text-align: right;\">\n",
              "      <th>range_cat</th>\n",
              "      <th>corta</th>\n",
              "      <th>media</th>\n",
              "      <th>larga</th>\n",
              "    </tr>\n",
              "    <tr>\n",
              "      <th>weaponUsed</th>\n",
              "      <th></th>\n",
              "      <th></th>\n",
              "      <th></th>\n",
              "    </tr>\n",
              "  </thead>\n",
              "  <tbody>\n",
              "    <tr>\n",
              "      <th>Pistola</th>\n",
              "      <td>92</td>\n",
              "      <td>95</td>\n",
              "      <td>94</td>\n",
              "    </tr>\n",
              "    <tr>\n",
              "      <th>Escopeta</th>\n",
              "      <td>97</td>\n",
              "      <td>92</td>\n",
              "      <td>94</td>\n",
              "    </tr>\n",
              "    <tr>\n",
              "      <th>Rifle</th>\n",
              "      <td>95</td>\n",
              "      <td>96</td>\n",
              "      <td>94</td>\n",
              "    </tr>\n",
              "  </tbody>\n",
              "</table>\n",
              "</div>"
            ],
            "text/plain": [
              "range_cat   corta  media  larga\n",
              "weaponUsed                     \n",
              "Pistola        92     95     94\n",
              "Escopeta       97     92     94\n",
              "Rifle          95     96     94"
            ]
          },
          "metadata": {},
          "output_type": "display_data"
        },
        {
          "name": "stdout",
          "output_type": "stream",
          "text": [
            "\n",
            "### Nivel 2: % Disparos Pistola vs Escopeta ###\n"
          ]
        },
        {
          "data": {
            "text/html": [
              "<div>\n",
              "<style scoped>\n",
              "    .dataframe tbody tr th:only-of-type {\n",
              "        vertical-align: middle;\n",
              "    }\n",
              "\n",
              "    .dataframe tbody tr th {\n",
              "        vertical-align: top;\n",
              "    }\n",
              "\n",
              "    .dataframe thead th {\n",
              "        text-align: right;\n",
              "    }\n",
              "</style>\n",
              "<table border=\"1\" class=\"dataframe\">\n",
              "  <thead>\n",
              "    <tr style=\"text-align: right;\">\n",
              "      <th></th>\n",
              "      <th>Disparos</th>\n",
              "      <th>% Disparos</th>\n",
              "    </tr>\n",
              "    <tr>\n",
              "      <th>weaponUsed</th>\n",
              "      <th></th>\n",
              "      <th></th>\n",
              "    </tr>\n",
              "  </thead>\n",
              "  <tbody>\n",
              "    <tr>\n",
              "      <th>Pistola</th>\n",
              "      <td>282</td>\n",
              "      <td>80</td>\n",
              "    </tr>\n",
              "    <tr>\n",
              "      <th>Escopeta</th>\n",
              "      <td>70</td>\n",
              "      <td>20</td>\n",
              "    </tr>\n",
              "  </tbody>\n",
              "</table>\n",
              "</div>"
            ],
            "text/plain": [
              "            Disparos  % Disparos\n",
              "weaponUsed                      \n",
              "Pistola          282          80\n",
              "Escopeta          70          20"
            ]
          },
          "metadata": {},
          "output_type": "display_data"
        },
        {
          "name": "stdout",
          "output_type": "stream",
          "text": [
            "\n",
            "### Nivel 3: % Disparos Pistola, Escopeta y Rifle ###\n"
          ]
        },
        {
          "data": {
            "text/html": [
              "<div>\n",
              "<style scoped>\n",
              "    .dataframe tbody tr th:only-of-type {\n",
              "        vertical-align: middle;\n",
              "    }\n",
              "\n",
              "    .dataframe tbody tr th {\n",
              "        vertical-align: top;\n",
              "    }\n",
              "\n",
              "    .dataframe thead th {\n",
              "        text-align: right;\n",
              "    }\n",
              "</style>\n",
              "<table border=\"1\" class=\"dataframe\">\n",
              "  <thead>\n",
              "    <tr style=\"text-align: right;\">\n",
              "      <th></th>\n",
              "      <th>Disparos</th>\n",
              "      <th>% Disparos</th>\n",
              "    </tr>\n",
              "    <tr>\n",
              "      <th>weaponUsed</th>\n",
              "      <th></th>\n",
              "      <th></th>\n",
              "    </tr>\n",
              "  </thead>\n",
              "  <tbody>\n",
              "    <tr>\n",
              "      <th>Pistola</th>\n",
              "      <td>353</td>\n",
              "      <td>75</td>\n",
              "    </tr>\n",
              "    <tr>\n",
              "      <th>Escopeta</th>\n",
              "      <td>45</td>\n",
              "      <td>10</td>\n",
              "    </tr>\n",
              "    <tr>\n",
              "      <th>Rifle</th>\n",
              "      <td>74</td>\n",
              "      <td>16</td>\n",
              "    </tr>\n",
              "  </tbody>\n",
              "</table>\n",
              "</div>"
            ],
            "text/plain": [
              "            Disparos  % Disparos\n",
              "weaponUsed                      \n",
              "Pistola          353          75\n",
              "Escopeta          45          10\n",
              "Rifle             74          16"
            ]
          },
          "metadata": {},
          "output_type": "display_data"
        },
        {
          "name": "stdout",
          "output_type": "stream",
          "text": [
            "\n",
            "### Dispersión de la escopeta ###\n"
          ]
        },
        {
          "data": {
            "text/html": [
              "<div>\n",
              "<style scoped>\n",
              "    .dataframe tbody tr th:only-of-type {\n",
              "        vertical-align: middle;\n",
              "    }\n",
              "\n",
              "    .dataframe tbody tr th {\n",
              "        vertical-align: top;\n",
              "    }\n",
              "\n",
              "    .dataframe thead th {\n",
              "        text-align: right;\n",
              "    }\n",
              "</style>\n",
              "<table border=\"1\" class=\"dataframe\">\n",
              "  <thead>\n",
              "    <tr style=\"text-align: right;\">\n",
              "      <th></th>\n",
              "      <th>Perdigones totales</th>\n",
              "      <th>Acertados</th>\n",
              "      <th>Fallidos</th>\n",
              "      <th>Ratio A/F</th>\n",
              "    </tr>\n",
              "  </thead>\n",
              "  <tbody>\n",
              "    <tr>\n",
              "      <th>Escopeta</th>\n",
              "      <td>115</td>\n",
              "      <td>92</td>\n",
              "      <td>23</td>\n",
              "      <td>4</td>\n",
              "    </tr>\n",
              "  </tbody>\n",
              "</table>\n",
              "</div>"
            ],
            "text/plain": [
              "          Perdigones totales  Acertados  Fallidos  Ratio A/F\n",
              "Escopeta                 115         92        23          4"
            ]
          },
          "metadata": {},
          "output_type": "display_data"
        }
      ],
      "source": [
        "# Resumen de resultados\n",
        "\n",
        "from IPython.display import display\n",
        "\n",
        "# Tabla de uso óptimo por distancia\n",
        "print(\"### Uso óptimo por distancia (% impactos) ###\")\n",
        "display(tabla5)\n",
        "\n",
        "# Tablas de uso por nivel\n",
        "print(\"\\n### Nivel 2: % Disparos Pistola vs Escopeta ###\")\n",
        "display(tabla2)\n",
        "\n",
        "print(\"\\n### Nivel 3: % Disparos Pistola, Escopeta y Rifle ###\")\n",
        "display(tabla3)\n",
        "\n",
        "# Tabla de dispersión escopeta\n",
        "print(\"\\n### Dispersión de la escopeta ###\")\n",
        "display(tabla7)\n"
      ]
    },
    {
      "cell_type": "markdown",
      "id": "a5f42eea",
      "metadata": {},
      "source": [
        "## 9. Conclusiones finales\n",
        "\n",
        "A continuación se exponen las conclusiones obtenidas:\n",
        "\n",
        "1. **Efectividad por distancia**  \n",
        "   - **Escopeta**: efectividad máxima en distancias cortas (≈75 %), y aun así mantiene un 67–71 % de aciertos en medias y largas.  \n",
        "   - **Pistola**: se comporta bien en rangos medios (71 %) y largos (74 %), con un mínimo de 64 % en cortas.  \n",
        "   - **Rifle**: sorprendentemente su mayor tasa de impactos se da en distancias muy cortas (≈76 %), cayendo a ≈69 % en largas.  \n",
        "   > **Interpretación**: solo la escopeta muestra el pico de eficiencia en el rango previsto (corta). La pistola y, especialmente, el rifle tienen un desempeño más uniforme e incluso superior en rango corto, lo cual no se ajusta al diseño original.\n",
        "\n",
        "2. **Uso por nivel de diseño**  \n",
        "   - **Nivel 2** (diseñado para corta): Pistola ≈64 % de los disparos vs Escopeta ≈36 %.  \n",
        "   - **Nivel 3** (diseñado para larga): Pistola ≈59 %, Escopeta ≈25 %, Rifle ≈16 %.  \n",
        "   > **Interpretación**: en ambos niveles el jugador prefiere la pistola, relegando la escopeta en el nivel 2 y el rifle en el nivel 3, rompiendo la estrategia prevista de cada nivel.\n",
        "\n",
        "3. **Dispersión de la escopeta**  \n",
        "   - **Perdigones totales**: 247  \n",
        "   - **Aciertos**: 157 (≈64 %)  \n",
        "   - **Fallidos**: 90 (≈36 %)  \n",
        "   - **Ratio A/F**: 1.74  \n",
        "   > **Interpretación**: la escopeta resulta razonablemente intuitiva: por cada fallo hay casi dos impactos, lo que ofrece un buen balance entre potencia y dispersión, o sugiere que para acertar el jugador ha de aproximarse muhco al enemigo para garantizar hacer un disparo efectivo.\n",
        "\n",
        "---\n",
        "\n",
        "**Resumen**  \n",
        "- Solo la escopeta cumple su diseño de “mejor en corto”.  \n",
        "- Pistola y rifle muestran estilos de uso inesperados, con alto rendimiento en rangos cortos.  \n",
        "- El jugador tiende a usar la pistola de forma predominante, independientemente de la distancia o del nivel.  \n",
        "- La dispersión de la escopeta está bien calibrada (más aciertos que fallos), pero el comportamiento del jugador sugiere falta de incentivo o necesidad de guiar su uso de rifle y escopeta en los niveles apropiados.\n",
        "\n",
        "**Recomendaciones**  \n",
        "- Reforzar mecánicas que premien el uso del arma adecuada en cada nivel (por ejemplo, bonificaciones de daño, recarga más rápida o más munición base).  \n",
        "- Ajustar tutoriales o feedback visual para recordar al jugador cuál es el arma óptima según la distancia y el diseño de nivel. \n"
      ]
    }
  ],
  "metadata": {
    "kernelspec": {
      "display_name": "Python 3",
      "language": "python",
      "name": "python3"
    },
    "language_info": {
      "codemirror_mode": {
        "name": "ipython",
        "version": 3
      },
      "file_extension": ".py",
      "mimetype": "text/x-python",
      "name": "python",
      "nbconvert_exporter": "python",
      "pygments_lexer": "ipython3",
      "version": "3.13.3"
    }
  },
  "nbformat": 4,
  "nbformat_minor": 5
}
